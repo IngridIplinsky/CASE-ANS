{
  "nbformat": 4,
  "nbformat_minor": 0,
  "metadata": {
    "colab": {
      "provenance": []
    },
    "kernelspec": {
      "name": "python3",
      "display_name": "Python 3"
    },
    "language_info": {
      "name": "python"
    }
  },
  "cells": [
    {
      "cell_type": "markdown",
      "source": [
        "# Importação de bibliotecas e dependências\n",
        "\n"
      ],
      "metadata": {
        "id": "q2SYakAxWsog"
      }
    },
    {
      "cell_type": "code",
      "execution_count": null,
      "metadata": {
        "colab": {
          "base_uri": "https://localhost:8080/"
        },
        "id": "jbndEFQXm_Q6",
        "outputId": "f2ec5ef2-589e-46d8-8c48-83b7a1e749f1",
        "collapsed": true
      },
      "outputs": [
        {
          "output_type": "stream",
          "name": "stdout",
          "text": [
            "Reading package lists... Done\n",
            "Building dependency tree... Done\n",
            "Reading state information... Done\n",
            "The following additional packages will be installed:\n",
            "  fonts-dejavu-core fonts-dejavu-extra libatk-wrapper-java\n",
            "  libatk-wrapper-java-jni libxt-dev libxtst6 libxxf86dga1 openjdk-11-jre\n",
            "  x11-utils\n",
            "Suggested packages:\n",
            "  libxt-doc openjdk-11-demo openjdk-11-source visualvm mesa-utils\n",
            "The following NEW packages will be installed:\n",
            "  fonts-dejavu-core fonts-dejavu-extra libatk-wrapper-java\n",
            "  libatk-wrapper-java-jni libxt-dev libxtst6 libxxf86dga1 openjdk-11-jdk\n",
            "  openjdk-11-jre x11-utils\n",
            "0 upgraded, 10 newly installed, 0 to remove and 35 not upgraded.\n",
            "Need to get 6,920 kB of archives.\n",
            "After this operation, 16.9 MB of additional disk space will be used.\n",
            "Get:1 http://archive.ubuntu.com/ubuntu jammy/main amd64 fonts-dejavu-core all 2.37-2build1 [1,041 kB]\n",
            "Get:2 http://archive.ubuntu.com/ubuntu jammy/main amd64 fonts-dejavu-extra all 2.37-2build1 [2,041 kB]\n",
            "Get:3 http://archive.ubuntu.com/ubuntu jammy/main amd64 libxtst6 amd64 2:1.2.3-1build4 [13.4 kB]\n",
            "Get:4 http://archive.ubuntu.com/ubuntu jammy/main amd64 libxxf86dga1 amd64 2:1.1.5-0ubuntu3 [12.6 kB]\n",
            "Get:5 http://archive.ubuntu.com/ubuntu jammy/main amd64 x11-utils amd64 7.7+5build2 [206 kB]\n",
            "Get:6 http://archive.ubuntu.com/ubuntu jammy/main amd64 libatk-wrapper-java all 0.38.0-5build1 [53.1 kB]\n",
            "Get:7 http://archive.ubuntu.com/ubuntu jammy/main amd64 libatk-wrapper-java-jni amd64 0.38.0-5build1 [49.0 kB]\n",
            "Get:8 http://archive.ubuntu.com/ubuntu jammy/main amd64 libxt-dev amd64 1:1.2.1-1 [396 kB]\n",
            "Get:9 http://archive.ubuntu.com/ubuntu jammy-updates/main amd64 openjdk-11-jre amd64 11.0.27+6~us1-0ubuntu1~22.04 [214 kB]\n",
            "Get:10 http://archive.ubuntu.com/ubuntu jammy-updates/main amd64 openjdk-11-jdk amd64 11.0.27+6~us1-0ubuntu1~22.04 [2,895 kB]\n",
            "Fetched 6,920 kB in 0s (14.7 MB/s)\n",
            "Selecting previously unselected package fonts-dejavu-core.\n",
            "(Reading database ... 126281 files and directories currently installed.)\n",
            "Preparing to unpack .../0-fonts-dejavu-core_2.37-2build1_all.deb ...\n",
            "Unpacking fonts-dejavu-core (2.37-2build1) ...\n",
            "Selecting previously unselected package fonts-dejavu-extra.\n",
            "Preparing to unpack .../1-fonts-dejavu-extra_2.37-2build1_all.deb ...\n",
            "Unpacking fonts-dejavu-extra (2.37-2build1) ...\n",
            "Selecting previously unselected package libxtst6:amd64.\n",
            "Preparing to unpack .../2-libxtst6_2%3a1.2.3-1build4_amd64.deb ...\n",
            "Unpacking libxtst6:amd64 (2:1.2.3-1build4) ...\n",
            "Selecting previously unselected package libxxf86dga1:amd64.\n",
            "Preparing to unpack .../3-libxxf86dga1_2%3a1.1.5-0ubuntu3_amd64.deb ...\n",
            "Unpacking libxxf86dga1:amd64 (2:1.1.5-0ubuntu3) ...\n",
            "Selecting previously unselected package x11-utils.\n",
            "Preparing to unpack .../4-x11-utils_7.7+5build2_amd64.deb ...\n",
            "Unpacking x11-utils (7.7+5build2) ...\n",
            "Selecting previously unselected package libatk-wrapper-java.\n",
            "Preparing to unpack .../5-libatk-wrapper-java_0.38.0-5build1_all.deb ...\n",
            "Unpacking libatk-wrapper-java (0.38.0-5build1) ...\n",
            "Selecting previously unselected package libatk-wrapper-java-jni:amd64.\n",
            "Preparing to unpack .../6-libatk-wrapper-java-jni_0.38.0-5build1_amd64.deb ...\n",
            "Unpacking libatk-wrapper-java-jni:amd64 (0.38.0-5build1) ...\n",
            "Selecting previously unselected package libxt-dev:amd64.\n",
            "Preparing to unpack .../7-libxt-dev_1%3a1.2.1-1_amd64.deb ...\n",
            "Unpacking libxt-dev:amd64 (1:1.2.1-1) ...\n",
            "Selecting previously unselected package openjdk-11-jre:amd64.\n",
            "Preparing to unpack .../8-openjdk-11-jre_11.0.27+6~us1-0ubuntu1~22.04_amd64.deb ...\n",
            "Unpacking openjdk-11-jre:amd64 (11.0.27+6~us1-0ubuntu1~22.04) ...\n",
            "Selecting previously unselected package openjdk-11-jdk:amd64.\n",
            "Preparing to unpack .../9-openjdk-11-jdk_11.0.27+6~us1-0ubuntu1~22.04_amd64.deb ...\n",
            "Unpacking openjdk-11-jdk:amd64 (11.0.27+6~us1-0ubuntu1~22.04) ...\n",
            "Setting up libxtst6:amd64 (2:1.2.3-1build4) ...\n",
            "Setting up libxxf86dga1:amd64 (2:1.1.5-0ubuntu3) ...\n",
            "Setting up openjdk-11-jre:amd64 (11.0.27+6~us1-0ubuntu1~22.04) ...\n",
            "Setting up libxt-dev:amd64 (1:1.2.1-1) ...\n",
            "Setting up fonts-dejavu-core (2.37-2build1) ...\n",
            "Setting up fonts-dejavu-extra (2.37-2build1) ...\n",
            "Setting up x11-utils (7.7+5build2) ...\n",
            "Setting up openjdk-11-jdk:amd64 (11.0.27+6~us1-0ubuntu1~22.04) ...\n",
            "update-alternatives: using /usr/lib/jvm/java-11-openjdk-amd64/bin/jconsole to provide /usr/bin/jconsole (jconsole) in auto mode\n",
            "Setting up libatk-wrapper-java (0.38.0-5build1) ...\n",
            "Setting up libatk-wrapper-java-jni:amd64 (0.38.0-5build1) ...\n",
            "Processing triggers for fontconfig (2.13.1-4.2ubuntu5) ...\n",
            "Processing triggers for hicolor-icon-theme (0.17-2) ...\n",
            "Processing triggers for libc-bin (2.35-0ubuntu3.8) ...\n",
            "/sbin/ldconfig.real: /usr/local/lib/libtcm_debug.so.1 is not a symbolic link\n",
            "\n",
            "/sbin/ldconfig.real: /usr/local/lib/libtbbbind_2_5.so.3 is not a symbolic link\n",
            "\n",
            "/sbin/ldconfig.real: /usr/local/lib/libur_adapter_level_zero_v2.so.0 is not a symbolic link\n",
            "\n",
            "/sbin/ldconfig.real: /usr/local/lib/libtcm.so.1 is not a symbolic link\n",
            "\n",
            "/sbin/ldconfig.real: /usr/local/lib/libhwloc.so.15 is not a symbolic link\n",
            "\n",
            "/sbin/ldconfig.real: /usr/local/lib/libtbbmalloc_proxy.so.2 is not a symbolic link\n",
            "\n",
            "/sbin/ldconfig.real: /usr/local/lib/libtbbmalloc.so.2 is not a symbolic link\n",
            "\n",
            "/sbin/ldconfig.real: /usr/local/lib/libtbb.so.12 is not a symbolic link\n",
            "\n",
            "/sbin/ldconfig.real: /usr/local/lib/libur_adapter_opencl.so.0 is not a symbolic link\n",
            "\n",
            "/sbin/ldconfig.real: /usr/local/lib/libumf.so.0 is not a symbolic link\n",
            "\n",
            "/sbin/ldconfig.real: /usr/local/lib/libtbbbind_2_0.so.3 is not a symbolic link\n",
            "\n",
            "/sbin/ldconfig.real: /usr/local/lib/libur_adapter_level_zero.so.0 is not a symbolic link\n",
            "\n",
            "/sbin/ldconfig.real: /usr/local/lib/libtbbbind.so.3 is not a symbolic link\n",
            "\n",
            "/sbin/ldconfig.real: /usr/local/lib/libur_loader.so.0 is not a symbolic link\n",
            "\n",
            "Processing triggers for man-db (2.10.2-1) ...\n",
            "Processing triggers for mailcap (3.70+nmu1ubuntu1) ...\n",
            "Requirement already satisfied: pyspark in /usr/local/lib/python3.11/dist-packages (3.5.1)\n",
            "Requirement already satisfied: py4j==0.10.9.7 in /usr/local/lib/python3.11/dist-packages (from pyspark) (0.10.9.7)\n"
          ]
        }
      ],
      "source": [
        "!apt-get install openjdk-11-jdk -y\n",
        "pip install pyspark\n",
        "pip install requests beautifulsoup4 tqdm\n"
      ]
    },
    {
      "cell_type": "code",
      "source": [
        "import os\n",
        "\n",
        "os.environ[\"JAVA_HOME\"] = \"/usr/lib/jvm/java-11-openjdk-amd64\"\n",
        "os.environ[\"PATH\"] += \":/usr/lib/jvm/java-11-openjdk-amd64/bin\"\n"
      ],
      "metadata": {
        "id": "hIxVGqHfnQ4B"
      },
      "execution_count": null,
      "outputs": []
    },
    {
      "cell_type": "markdown",
      "source": [
        "# Extração dos dados do FTP da ANS"
      ],
      "metadata": {
        "id": "WBlK4ga8WatM"
      }
    },
    {
      "cell_type": "code",
      "source": [
        "import os\n",
        "import requests\n",
        "from bs4 import BeautifulSoup\n",
        "from tqdm import tqdm\n",
        "\n",
        "# Diretório base do FTP exposto via HTTP\n",
        "BASE_URL = \"https://dadosabertos.ans.gov.br/FTP/PDA/informacoes_consolidadas_de_beneficiarios-024/\"\n",
        "ESTADOS_SUL = [\"SC\", \"RS\", \"PR\"]\n",
        "ANO = \"2025\"\n",
        "\n",
        "# Pasta local para salvar arquivos\n",
        "DOWNLOAD_DIR = \"dados_ans_sul\"\n",
        "os.makedirs(DOWNLOAD_DIR, exist_ok=True)\n",
        "\n",
        "def get_links(url):\n",
        "    response = requests.get(url)\n",
        "    soup = BeautifulSoup(response.text, 'html.parser')\n",
        "    return [a['href'] for a in soup.find_all('a', href=True)]\n",
        "\n",
        "def baixar_arquivo(url, destino):\n",
        "    response = requests.get(url, stream=True)\n",
        "    tamanho_total = int(response.headers.get('content-length', 0))\n",
        "\n",
        "    with open(destino, 'wb') as f, tqdm(\n",
        "        desc=destino,\n",
        "        total=tamanho_total,\n",
        "        unit='B',\n",
        "        unit_scale=True,\n",
        "        unit_divisor=1024,\n",
        "    ) as barra:\n",
        "        for data in response.iter_content(chunk_size=1024):\n",
        "            f.write(data)\n",
        "            barra.update(len(data))\n",
        "\n",
        "def extracao_dados_benificiario():\n",
        "    # Pega os subdiretórios de 2025 (ex: 202501, 202502)\n",
        "    meses_links = [link for link in get_links(BASE_URL) if link.startswith(ANO)]\n",
        "\n",
        "    for mes in meses_links:\n",
        "        mes_url = f\"{BASE_URL}{mes}\"\n",
        "        arquivos = get_links(mes_url)\n",
        "\n",
        "        for arquivo in arquivos:\n",
        "            if arquivo.endswith(\".zip\") and any(f\"-{uf}-\" in arquivo for uf in ESTADOS_SUL):\n",
        "                url_arquivo = f\"{mes_url}{arquivo}\"\n",
        "                destino_local = os.path.join(DOWNLOAD_DIR, arquivo)\n",
        "\n",
        "                if not os.path.exists(destino_local):\n",
        "                    print(f\"Baixando {arquivo}...\")\n",
        "                    baixar_arquivo(url_arquivo, destino_local)\n",
        "                else:\n",
        "                    print(f\"Arquivo {arquivo} já existe. Pulando.\")\n",
        "\n",
        "extracao_dados_benificiario()"
      ],
      "metadata": {
        "colab": {
          "base_uri": "https://localhost:8080/"
        },
        "id": "p-5ig_wAnZX1",
        "outputId": "f10a2780-9e60-4ed6-afad-7247ebc13f01",
        "collapsed": true
      },
      "execution_count": null,
      "outputs": [
        {
          "output_type": "stream",
          "name": "stdout",
          "text": [
            "Baixando pda-024-icb-PR-2025_01.zip...\n"
          ]
        },
        {
          "output_type": "stream",
          "name": "stderr",
          "text": [
            "dados_ans_sul/pda-024-icb-PR-2025_01.zip: 100%|██████████| 26.2M/26.2M [00:02<00:00, 12.3MB/s]\n"
          ]
        },
        {
          "output_type": "stream",
          "name": "stdout",
          "text": [
            "Baixando pda-024-icb-RS-2025_01.zip...\n"
          ]
        },
        {
          "output_type": "stream",
          "name": "stderr",
          "text": [
            "dados_ans_sul/pda-024-icb-RS-2025_01.zip: 100%|██████████| 22.6M/22.6M [00:01<00:00, 12.4MB/s]\n"
          ]
        },
        {
          "output_type": "stream",
          "name": "stdout",
          "text": [
            "Baixando pda-024-icb-SC-2025_01.zip...\n"
          ]
        },
        {
          "output_type": "stream",
          "name": "stderr",
          "text": [
            "dados_ans_sul/pda-024-icb-SC-2025_01.zip: 100%|██████████| 17.0M/17.0M [00:01<00:00, 10.8MB/s]\n"
          ]
        },
        {
          "output_type": "stream",
          "name": "stdout",
          "text": [
            "Baixando pda-024-icb-PR-2025_02.zip...\n"
          ]
        },
        {
          "output_type": "stream",
          "name": "stderr",
          "text": [
            "dados_ans_sul/pda-024-icb-PR-2025_02.zip: 100%|██████████| 25.9M/25.9M [00:02<00:00, 13.4MB/s]\n"
          ]
        },
        {
          "output_type": "stream",
          "name": "stdout",
          "text": [
            "Baixando pda-024-icb-RS-2025_02.zip...\n"
          ]
        },
        {
          "output_type": "stream",
          "name": "stderr",
          "text": [
            "dados_ans_sul/pda-024-icb-RS-2025_02.zip: 100%|██████████| 22.5M/22.5M [00:01<00:00, 13.4MB/s]\n"
          ]
        },
        {
          "output_type": "stream",
          "name": "stdout",
          "text": [
            "Baixando pda-024-icb-SC-2025_02.zip...\n"
          ]
        },
        {
          "output_type": "stream",
          "name": "stderr",
          "text": [
            "dados_ans_sul/pda-024-icb-SC-2025_02.zip: 100%|██████████| 17.0M/17.0M [00:01<00:00, 10.8MB/s]\n"
          ]
        },
        {
          "output_type": "stream",
          "name": "stdout",
          "text": [
            "Baixando pda-024-icb-PR-2025_03.zip...\n"
          ]
        },
        {
          "output_type": "stream",
          "name": "stderr",
          "text": [
            "dados_ans_sul/pda-024-icb-PR-2025_03.zip: 100%|██████████| 26.0M/26.0M [00:02<00:00, 10.4MB/s]\n"
          ]
        },
        {
          "output_type": "stream",
          "name": "stdout",
          "text": [
            "Baixando pda-024-icb-RS-2025_03.zip...\n"
          ]
        },
        {
          "output_type": "stream",
          "name": "stderr",
          "text": [
            "dados_ans_sul/pda-024-icb-RS-2025_03.zip: 100%|██████████| 22.6M/22.6M [00:01<00:00, 12.4MB/s]\n"
          ]
        },
        {
          "output_type": "stream",
          "name": "stdout",
          "text": [
            "Baixando pda-024-icb-SC-2025_03.zip...\n"
          ]
        },
        {
          "output_type": "stream",
          "name": "stderr",
          "text": [
            "dados_ans_sul/pda-024-icb-SC-2025_03.zip: 100%|██████████| 17.0M/17.0M [00:01<00:00, 10.1MB/s]\n"
          ]
        },
        {
          "output_type": "stream",
          "name": "stdout",
          "text": [
            "Baixando pda-024-icb-PR-2025_04.zip...\n"
          ]
        },
        {
          "output_type": "stream",
          "name": "stderr",
          "text": [
            "dados_ans_sul/pda-024-icb-PR-2025_04.zip: 100%|██████████| 26.2M/26.2M [00:02<00:00, 12.8MB/s]\n"
          ]
        },
        {
          "output_type": "stream",
          "name": "stdout",
          "text": [
            "Baixando pda-024-icb-RS-2025_04.zip...\n"
          ]
        },
        {
          "output_type": "stream",
          "name": "stderr",
          "text": [
            "dados_ans_sul/pda-024-icb-RS-2025_04.zip: 100%|██████████| 22.7M/22.7M [00:01<00:00, 12.5MB/s]\n"
          ]
        },
        {
          "output_type": "stream",
          "name": "stdout",
          "text": [
            "Baixando pda-024-icb-SC-2025_04.zip...\n"
          ]
        },
        {
          "output_type": "stream",
          "name": "stderr",
          "text": [
            "dados_ans_sul/pda-024-icb-SC-2025_04.zip: 100%|██████████| 17.1M/17.1M [00:01<00:00, 11.7MB/s]\n"
          ]
        },
        {
          "output_type": "stream",
          "name": "stdout",
          "text": [
            "Baixando pda-024-icb-PR-2025_05.zip...\n"
          ]
        },
        {
          "output_type": "stream",
          "name": "stderr",
          "text": [
            "dados_ans_sul/pda-024-icb-PR-2025_05.zip: 100%|██████████| 24.1M/24.1M [00:02<00:00, 12.5MB/s]\n"
          ]
        },
        {
          "output_type": "stream",
          "name": "stdout",
          "text": [
            "Baixando pda-024-icb-RS-2025_05.zip...\n"
          ]
        },
        {
          "output_type": "stream",
          "name": "stderr",
          "text": [
            "dados_ans_sul/pda-024-icb-RS-2025_05.zip: 100%|██████████| 20.7M/20.7M [00:01<00:00, 11.5MB/s]\n"
          ]
        },
        {
          "output_type": "stream",
          "name": "stdout",
          "text": [
            "Baixando pda-024-icb-SC-2025_05.zip...\n"
          ]
        },
        {
          "output_type": "stream",
          "name": "stderr",
          "text": [
            "dados_ans_sul/pda-024-icb-SC-2025_05.zip: 100%|██████████| 16.0M/16.0M [00:01<00:00, 9.45MB/s]\n"
          ]
        }
      ]
    },
    {
      "cell_type": "markdown",
      "source": [
        "# Descompactação de Arquivos\n"
      ],
      "metadata": {
        "id": "4U0FWFlQXA5I"
      }
    },
    {
      "cell_type": "code",
      "source": [
        "import os\n",
        "import zipfile\n",
        "\n",
        "# Diretórios\n",
        "CAMINHO_ZIPS = \"dados_ans_sul\"\n",
        "CAMINHO_EXTRAIDOS = \"dados_extraidos\"\n",
        "CAMINHO_PARQUET = \"dados_parquet\"\n",
        "os.makedirs(CAMINHO_EXTRAIDOS, exist_ok=True)\n",
        "os.makedirs(CAMINHO_PARQUET, exist_ok=True)\n",
        "\n",
        "def descomprimir_arquivos(diretorio):\n",
        "\n",
        "    # Extrair arquivos .zip\n",
        "    arquivos_zip = [f for f in os.listdir(diretorio) if f.endswith(\".zip\")]\n",
        "\n",
        "    for arquivo_zip in arquivos_zip:\n",
        "        caminho_zip = os.path.join(diretorio, arquivo_zip)\n",
        "\n",
        "        with zipfile.ZipFile(caminho_zip, 'r') as zip_ref:\n",
        "            zip_ref.extractall(CAMINHO_EXTRAIDOS)\n",
        "\n",
        "descomprimir_arquivos(CAMINHO_ZIPS)\n",
        "\n",
        "\n"
      ],
      "metadata": {
        "id": "zN0MKMuVsgX0",
        "collapsed": true
      },
      "execution_count": null,
      "outputs": []
    },
    {
      "cell_type": "markdown",
      "source": [
        "# Tratamento dos dados\n"
      ],
      "metadata": {
        "id": "hiX1vlzY0LrK"
      }
    },
    {
      "cell_type": "code",
      "source": [
        "from pyspark.sql import SparkSession\n",
        "from pyspark.sql.functions import col, trimfrom, split, sum as _sum, round\n",
        "from pyspark.sql.types import IntegerType, StringType\n",
        "\n",
        "# Inicializa Spark\n",
        "spark = SparkSession.builder \\\n",
        "    .appName(\"ANS - Beneficiarios Sul\") \\\n",
        "    .getOrCreate()\n",
        "\n",
        "# Lendo os arquivos CSV extraídos\n",
        "arquivos_csv = [os.path.join(CAMINHO_EXTRAIDOS, f) for f in os.listdir(CAMINHO_EXTRAIDOS) if f.endswith('.csv')]\n",
        "\n",
        "dfs = []\n",
        "\n",
        "for caminho_csv in arquivos_csv:\n",
        "    try:\n",
        "        df = spark.read \\\n",
        "            .option(\"header\", \"true\") \\\n",
        "            .option(\"sep\", \";\") \\\n",
        "            .option(\"encoding\", \"latin1\") \\\n",
        "            .csv(caminho_csv)\n",
        "\n",
        "        # Remove espaços dos nomes das colunas\n",
        "        for col_name in df.columns:\n",
        "            df = df.withColumnRenamed(col_name, col_name.strip())\n",
        "\n",
        "        # Tipos de colunas numéricas\n",
        "        colunas_inteiras = [\n",
        "            \"CD_OPERADORA\", \"QT_BENEFICIARIO_ATIVO\", \"QT_BENEFICIARIO_ADERIDO\",\n",
        "            \"QT_BENEFICIARIO_CANCELADO\", \"CD_PLANO\", \"CD_MUNICIPIO\"\n",
        "        ]\n",
        "\n",
        "        for c in colunas_inteiras:\n",
        "            if c in df.columns:\n",
        "                df = df.withColumn(c, col(c).cast(IntegerType()))\n",
        "\n",
        "        dfs.append(df)\n",
        "\n",
        "    except Exception as e:\n",
        "        print(f\"Erro ao processar {caminho_csv}: {e}\")\n",
        "\n",
        "# Unir todos os DataFrames e validar o esquema\n",
        "if dfs:\n",
        "    df_final = dfs[0]\n",
        "    for df in dfs[1:]:\n",
        "        df_final = df_final.unionByName(df, allowMissingColumns=True)\n",
        "\n",
        "    print(\"\\n Esquema inferido:\")\n",
        "    df_final.printSchema()\n",
        "\n",
        "else:\n",
        "    print(\"Nenhum dado foi carregado.\")\n",
        "\n",
        "\n",
        "# Iremos analisar o churn de clientes nas unidades da UNIMED da região do Sul\n",
        "\n",
        "df_churn = df_final.filter(col(\"NM_RAZAO_SOCIAL\").startswith(\"UNIMED\"))\n",
        "\n",
        "# Agrupa por Competência (ID_CMPT_MOVEL), UF, Faixa Etária\n",
        "df_churn = df_churn.filter(col(\"SG_UF\").isin([\"RS\", \"SC\", \"PR\"])) \\\n",
        "    .groupBy(\"ID_CMPT_MOVEL\", \"SG_UF\", \"DE_FAIXA_ETARIA\", \"NM_RAZAO_SOCIAL\", \"DE_CONTRATACAO_PLANO\") \\\n",
        "    .agg(\n",
        "        _sum(\"QT_BENEFICIARIO_ATIVO\").alias(\"BENEF_ATIVOS\"),\n",
        "        _sum(\"QT_BENEFICIARIO_ADERIDO\").alias(\"BENEF_ADERIDOS\"),\n",
        "        _sum(\"QT_BENEFICIARIO_CANCELADO\").alias(\"BENEF_CANCELADOS\")\n",
        "    )\n",
        "\n",
        "# Calcula churn rate\n",
        "df_churn = df_churn.withColumn(\n",
        "    \"CHURN_RATE\",\n",
        "    round((col(\"BENEF_CANCELADOS\") / (col(\"BENEF_ATIVOS\") + col(\"BENEF_ADERIDOS\"))) * 100, 2)\n",
        ")\n",
        "df_churn.count()\n",
        "\n",
        "df_churn = df_churn.withColumnRenamed(\"NM_RAZAO_SOCIAL\", \"RAZAO_SOCIAL\")\n",
        "df_churn = df_churn.withColumnRenamed(\"DE_FAIXA_ETARIA\", \"FAIXA_ETARIA\")\n",
        "df_churn = df_churn.withColumnRenamed(\"ID_CMPT_MOVEL\", \"COMPETENCIA\")\n",
        "df_churn = df_churn.withColumnRenamed(\"DE_CONTRATACAO_PLANO\", \"CONTRATACAO_PLANO\")\n",
        "\n",
        "df_churn = df_churn = df_churn.withColumn(\"ANO\", split(col(\"COMPETENCIA\"), \"-\").getItem(0))\n",
        "df_churn = df_churn = df_churn.withColumn(\"MES\", split(col(\"COMPETENCIA\"), \"-\").getItem(1))\n",
        "\n",
        "df_churn.write \\\n",
        "  .mode(\"overwrite\") \\\n",
        "  .option(\"header\", True) \\\n",
        "  .option(\"delimiter\", \";\") \\\n",
        "  .csv(\"dados\")\n"
      ],
      "metadata": {
        "id": "nA9-1CKTgOq2"
      },
      "execution_count": null,
      "outputs": []
    }
  ]
}